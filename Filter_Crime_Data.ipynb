{
 "cells": [
  {
   "cell_type": "code",
   "execution_count": 74,
   "metadata": {},
   "outputs": [],
   "source": [
    "import pandas as pd"
   ]
  },
  {
   "cell_type": "code",
   "execution_count": 75,
   "metadata": {},
   "outputs": [],
   "source": [
    "fields = ['ID', 'Date', 'Primary Type', 'Description', 'Location Description', 'Arrest', 'Domestic', 'District', 'Ward', 'Community Area', 'FBI Code', 'Year', 'Updated On', 'Latitude', 'Longitude']\n",
    "\n",
    "df_crime = pd.read_csv('Crimes_-_2010_to_Present.csv', usecols=fields)\n",
    "\n",
    "######################################################################\n",
    "######################################################################\n",
    "######################################################################\n",
    "\n",
    "# NOTE: THIS FILE IS TOO LARGE TO STORE ON GITHUB. \n",
    "# YOU WILL NEED TO EXPORT FROM CITY OF CHICAGO WEBSITE, LINKED BELOW:\n",
    "# https://data.cityofchicago.org/Public-Safety/Crimes-2001-to-Present/ijzp-q8t2\n",
    "\n",
    "######################################################################\n",
    "######################################################################\n",
    "######################################################################\n",
    "\n",
    "df_crime.columns = ['ID (C)', 'Date (C)', 'Primary Type (C)', 'Description (C)', 'Crime Location Description (C)', 'Arrest (C)', 'Domestic (C)', 'District (C)', 'Ward (C)', 'Community Area (C)', 'FBI Code (C)', 'Year (C)', 'Updated On (C)', 'Latitude (C)', 'Longitude (C)']\n",
    "\n",
    "df_crime['Latitude'] = df_crime['Latitude (C)']\n",
    "df_crime['Longitude'] = df_crime['Longitude (C)']\n",
    "\n",
    "# See the keys & data preview\n",
    "#print(df_crime.keys())\n",
    "#df_crime.head(5)\n",
    "\n",
    "#df['Year'].dtype"
   ]
  },
  {
   "cell_type": "code",
   "execution_count": 70,
   "metadata": {},
   "outputs": [],
   "source": [
    "fields = ['Community Area Name', 'Community Area Number', 'Property Type (orig)', 'Property Type', 'Property Name', 'Address', 'Zip Code', 'Latitude', 'Longitude']\n",
    "\n",
    "df_housing = pd.read_csv('Affordable_Rental_Housing_Developments.csv', usecols=fields)\n",
    "\n",
    "df_housing.columns = ['Community Area Name (A)', 'Community Area Number (A)', 'Property Type (orig) (A)', 'Property Type (A)', 'Property Name (A)', 'Address (A)', 'Zip Code (A)', 'Latitude (A)', 'Longitude (A)']\n",
    "\n",
    "df_housing['Latitude'] = df_housing['Latitude (A)']\n",
    "df_housing['Longitude'] = df_housing['Longitude (A)']\n",
    "df_housing['Zip'] = df_housing['Zip Code (A)']\n",
    "\n",
    "# See the keys & data preview\n",
    "#print(df_housing.keys())\n",
    "#df_housing.head(5)"
   ]
  },
  {
   "cell_type": "code",
   "execution_count": 71,
   "metadata": {},
   "outputs": [],
   "source": [
    "fields = ['BLDGID', 'LABEL', 'FACILITY', 'ADDRESS', 'TYPE2', 'CA2', 'EDITDATE', 'ZIP', 'WARD', 'TRACT', 'AREA_NUMBE', 'COMMUNITY', 'Latitude', 'Longitude']\n",
    "\n",
    "df_hospitals = pd.read_csv('Hospitals_Lat_Long.csv', usecols=fields)\n",
    "\n",
    "df_hospitals.columns = ['BLDGID (H)', 'LABEL (H)', 'FACILITY (H)', 'ADDRESS (H)', 'TYPE2 (H)', 'CA2 (H)', 'EDITDATE (H)', 'ZIP (H)', 'WARD (H)', 'TRACT (H)', 'AREA_NUMBE (H)', 'COMMUNITY (H)', 'Latitude (H)', 'Longitude (H)']\n",
    "\n",
    "df_hospitals['Latitude'] = df_hospitals['Latitude (H)']\n",
    "df_hospitals['Longitude'] = df_hospitals['Longitude (H)']\n",
    "df_hospitals['Zip'] = df_hospitals['ZIP (H)']\n",
    "\n",
    "# See the keys & data preview\n",
    "#print(df_hospitals.keys())\n",
    "#df_hospitals.head(5)"
   ]
  },
  {
   "cell_type": "code",
   "execution_count": 72,
   "metadata": {},
   "outputs": [],
   "source": [
    "fields = ['DISTRICT', 'DISTRICT NAME', 'ADDRESS', 'ZIP', 'LATITUDE', 'LONGITUDE']\n",
    "\n",
    "df_police = pd.read_csv('Police_Stations.csv', usecols=fields)\n",
    "\n",
    "df_police.columns = ['DISTRICT (P)', 'DISTRICT NAME (P)', 'ADDRESS (P)', 'ZIP (P)', 'LATITUDE (P)', 'LONGITUDE (P)']\n",
    "\n",
    "df_police['Latitude'] = df_police['LATITUDE (P)']\n",
    "df_police['Longitude'] = df_police['LONGITUDE (P)']\n",
    "df_police['Zip'] = df_police['ZIP (P)']\n",
    "\n",
    "# See the keys & data preview\n",
    "#print(df_police.keys())\n",
    "#df_police.head(5)"
   ]
  },
  {
   "cell_type": "code",
   "execution_count": 73,
   "metadata": {},
   "outputs": [],
   "source": [
    "fields = ['Name', 'ADDRESS', 'LONGNAME', 'LINES', 'STATION_ID', 'Latitude', 'Longitude', 'Zip']\n",
    "\n",
    "df_rail = pd.read_csv('CTA_RailStations2_Zip_Code.csv', usecols=fields)\n",
    "\n",
    "df_rail.columns = ['Name (R)', 'ADDRESS (R)', 'LONGNAME (R)', 'LINES (R)', 'STATION_ID (R)', 'Latitude (R)', 'Longitude (R)', 'Zip (R)']\n",
    "\n",
    "df_rail['Latitude'] = df_rail['Latitude (R)']\n",
    "df_rail['Longitude'] = df_rail['Longitude (R)']\n",
    "df_rail['Zip'] = df_rail['Zip (R)']\n",
    "\n",
    "# See the keys & data preview\n",
    "#print(df_rail.keys())\n",
    "#df_rail.head(5)"
   ]
  },
  {
   "cell_type": "code",
   "execution_count": 76,
   "metadata": {},
   "outputs": [],
   "source": [
    "filter_year = (df_crime['Year (C)'] >= 2010)\n",
    "df_crime_filtered = df_crime[filter_year]\n",
    "df_crime_filtered.to_csv('Crime_Data_v2.csv')\n"
   ]
  },
  {
   "cell_type": "code",
   "execution_count": 63,
   "metadata": {},
   "outputs": [],
   "source": [
    "df_merge = pd.concat([df_crime_filtered, df_housing, df_hospitals, df_police, df_rail], axis=0, ignore_index=True, sort=True)"
   ]
  },
  {
   "cell_type": "code",
   "execution_count": 64,
   "metadata": {},
   "outputs": [],
   "source": [
    "df_merge.to_csv('Combined_Data.csv')"
   ]
  }
 ],
 "metadata": {
  "kernelspec": {
   "display_name": "Python 3",
   "language": "python",
   "name": "python3"
  },
  "language_info": {
   "codemirror_mode": {
    "name": "ipython",
    "version": 3
   },
   "file_extension": ".py",
   "mimetype": "text/x-python",
   "name": "python",
   "nbconvert_exporter": "python",
   "pygments_lexer": "ipython3",
   "version": "3.7.4"
  }
 },
 "nbformat": 4,
 "nbformat_minor": 2
}
